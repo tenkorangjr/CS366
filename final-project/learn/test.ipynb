{
 "cells": [
  {
   "cell_type": "code",
   "execution_count": 1,
   "id": "a6a71197",
   "metadata": {},
   "outputs": [
    {
     "name": "stderr",
     "output_type": "stream",
     "text": [
      "A.L.E: Arcade Learning Environment (version 0.11.2+ecc1138)\n",
      "[Powered by Stella]\n",
      "Game console created:\n",
      "  ROM file:  /Users/michaeltenkorangjr/courses/cs/CS366/final-project/.venv/lib/python3.13/site-packages/ale_py/roms/breakout.bin\n",
      "  Cart Name: Breakout - Breakaway IV (1978) (Atari)\n",
      "  Cart MD5:  f34f08e5eb96e500e851a80be3277a56\n",
      "  Display Format:  AUTO-DETECT ==> NTSC\n",
      "  ROM Size:        2048\n",
      "  Bankswitch Type: AUTO-DETECT ==> 2K\n",
      "\n",
      "Running ROM file...\n",
      "Random seed is 1761011230\n"
     ]
    }
   ],
   "source": [
    "import gymnasium as gym\n",
    "from ale_py import ALEInterface, roms\n",
    "\n",
    "ale = ALEInterface()\n",
    "ale.loadROM(roms.get_rom_path(\"breakout\"))\n",
    "ale.reset_game()\n",
    "\n",
    "reward = ale.act(0)\n",
    "screen_obs = ale.getScreenRGB()\n"
   ]
  }
 ],
 "metadata": {
  "kernelspec": {
   "display_name": ".venv (3.13.7)",
   "language": "python",
   "name": "python3"
  },
  "language_info": {
   "codemirror_mode": {
    "name": "ipython",
    "version": 3
   },
   "file_extension": ".py",
   "mimetype": "text/x-python",
   "name": "python",
   "nbconvert_exporter": "python",
   "pygments_lexer": "ipython3",
   "version": "3.13.7"
  }
 },
 "nbformat": 4,
 "nbformat_minor": 5
}
